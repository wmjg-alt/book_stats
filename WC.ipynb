{
 "cells": [
  {
   "cell_type": "code",
   "execution_count": 13,
   "metadata": {},
   "outputs": [],
   "source": [
    "import pandas as pd\n",
    "pd.set_option('display.float_format', lambda x: f\"{round(x):,}\")"
   ]
  },
  {
   "cell_type": "code",
   "execution_count": 14,
   "metadata": {},
   "outputs": [],
   "source": [
    "SFF = pd.read_excel(\"SFF Book Wordcounts.xlsx\")"
   ]
  },
  {
   "cell_type": "code",
   "execution_count": 16,
   "metadata": {},
   "outputs": [],
   "source": [
    "S = SFF.groupby(['Author','Series'])['Wordcount'].sum().reset_index(name ='Total')"
   ]
  },
  {
   "cell_type": "code",
   "execution_count": 17,
   "metadata": {},
   "outputs": [
    {
     "data": {
      "text/html": [
       "<div>\n",
       "<style scoped>\n",
       "    .dataframe tbody tr th:only-of-type {\n",
       "        vertical-align: middle;\n",
       "    }\n",
       "\n",
       "    .dataframe tbody tr th {\n",
       "        vertical-align: top;\n",
       "    }\n",
       "\n",
       "    .dataframe thead th {\n",
       "        text-align: right;\n",
       "    }\n",
       "</style>\n",
       "<table border=\"1\" class=\"dataframe\">\n",
       "  <thead>\n",
       "    <tr style=\"text-align: right;\">\n",
       "      <th></th>\n",
       "      <th>Author</th>\n",
       "      <th>Series</th>\n",
       "      <th>Total</th>\n",
       "    </tr>\n",
       "  </thead>\n",
       "  <tbody>\n",
       "    <tr>\n",
       "      <th>145</th>\n",
       "      <td>Steven Erikson</td>\n",
       "      <td>Malazan Short Story</td>\n",
       "      <td>30,000</td>\n",
       "    </tr>\n",
       "    <tr>\n",
       "      <th>104</th>\n",
       "      <td>Neil Gaiman</td>\n",
       "      <td>Coraline</td>\n",
       "      <td>30,826</td>\n",
       "    </tr>\n",
       "    <tr>\n",
       "      <th>78</th>\n",
       "      <td>Mark Lawrence</td>\n",
       "      <td>The Broken Empire Shorts</td>\n",
       "      <td>63,000</td>\n",
       "    </tr>\n",
       "    <tr>\n",
       "      <th>106</th>\n",
       "      <td>Neil Gaiman</td>\n",
       "      <td>Stardust</td>\n",
       "      <td>63,317</td>\n",
       "    </tr>\n",
       "    <tr>\n",
       "      <th>107</th>\n",
       "      <td>Neil Gaiman</td>\n",
       "      <td>The Graveyard Book</td>\n",
       "      <td>69,151</td>\n",
       "    </tr>\n",
       "    <tr>\n",
       "      <th>...</th>\n",
       "      <td>...</td>\n",
       "      <td>...</td>\n",
       "      <td>...</td>\n",
       "    </tr>\n",
       "    <tr>\n",
       "      <th>156</th>\n",
       "      <td>Terry Brooks</td>\n",
       "      <td>Shannara</td>\n",
       "      <td>4,070,030</td>\n",
       "    </tr>\n",
       "    <tr>\n",
       "      <th>72</th>\n",
       "      <td>L.E. Modesitt Jr.</td>\n",
       "      <td>Saga of the Recluce</td>\n",
       "      <td>4,160,618</td>\n",
       "    </tr>\n",
       "    <tr>\n",
       "      <th>98</th>\n",
       "      <td>Michelle West</td>\n",
       "      <td>Essalieyan</td>\n",
       "      <td>4,394,325</td>\n",
       "    </tr>\n",
       "    <tr>\n",
       "      <th>115</th>\n",
       "      <td>Piers Anthony</td>\n",
       "      <td>Xanth</td>\n",
       "      <td>4,625,601</td>\n",
       "    </tr>\n",
       "    <tr>\n",
       "      <th>168</th>\n",
       "      <td>pirateaba</td>\n",
       "      <td>The Wandering Inn</td>\n",
       "      <td>11,134,594</td>\n",
       "    </tr>\n",
       "  </tbody>\n",
       "</table>\n",
       "<p>172 rows × 3 columns</p>\n",
       "</div>"
      ],
      "text/plain": [
       "                Author                    Series      Total\n",
       "145     Steven Erikson       Malazan Short Story     30,000\n",
       "104        Neil Gaiman                  Coraline     30,826\n",
       "78       Mark Lawrence  The Broken Empire Shorts     63,000\n",
       "106        Neil Gaiman                  Stardust     63,317\n",
       "107        Neil Gaiman        The Graveyard Book     69,151\n",
       "..                 ...                       ...        ...\n",
       "156       Terry Brooks                  Shannara  4,070,030\n",
       "72   L.E. Modesitt Jr.       Saga of the Recluce  4,160,618\n",
       "98       Michelle West                Essalieyan  4,394,325\n",
       "115      Piers Anthony                     Xanth  4,625,601\n",
       "168          pirateaba         The Wandering Inn 11,134,594\n",
       "\n",
       "[172 rows x 3 columns]"
      ]
     },
     "execution_count": 17,
     "metadata": {},
     "output_type": "execute_result"
    }
   ],
   "source": [
    "S.sort_values(by='Total')"
   ]
  },
  {
   "cell_type": "code",
   "execution_count": null,
   "metadata": {},
   "outputs": [],
   "source": []
  }
 ],
 "metadata": {
  "kernelspec": {
   "display_name": "Python 3",
   "language": "python",
   "name": "python3"
  },
  "language_info": {
   "codemirror_mode": {
    "name": "ipython",
    "version": 3
   },
   "file_extension": ".py",
   "mimetype": "text/x-python",
   "name": "python",
   "nbconvert_exporter": "python",
   "pygments_lexer": "ipython3",
   "version": "3.10.6"
  },
  "orig_nbformat": 4
 },
 "nbformat": 4,
 "nbformat_minor": 2
}
