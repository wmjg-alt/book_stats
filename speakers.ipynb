{
 "cells": [
  {
   "cell_type": "code",
   "execution_count": 12,
   "metadata": {},
   "outputs": [],
   "source": [
    "import os\n",
    "import glob\n",
    "from nltk import sent_tokenize, word_tokenize\n",
    "import spacy \n",
    "from collections import Counter"
   ]
  },
  {
   "cell_type": "code",
   "execution_count": null,
   "metadata": {},
   "outputs": [],
   "source": [
    "nlp = spacy.load('en_core_web_lg')\n",
    "nlp.max_length = nlp.max_length *1.5\n",
    "\n",
    "def fx(s):\n",
    "    return s[4:-4]"
   ]
  },
  {
   "cell_type": "code",
   "execution_count": 35,
   "metadata": {},
   "outputs": [
    {
     "name": "stdout",
     "output_type": "stream",
     "text": [
      "['books\\\\01 - The Fellowship Of The Ring.txt', 'books\\\\02 - The Two Towers.txt', 'books\\\\03 - The Return Of The King.txt']\n"
     ]
    }
   ],
   "source": [
    "books = glob.glob('**/*.txt')\n",
    "print(books)"
   ]
  },
  {
   "cell_type": "code",
   "execution_count": 36,
   "metadata": {},
   "outputs": [
    {
     "name": "stdout",
     "output_type": "stream",
     "text": [
      "s\\01 - The Fellowship Of The Ring \t--\t 1021113 13407\n",
      "s\\02 - The Two Towers \t--\t 834790 12513\n",
      "s\\03 - The Return Of The King \t--\t 724043 9139\n"
     ]
    }
   ],
   "source": [
    "shelf = [{},{},{}]\n",
    "for i,b in enumerate(books):\n",
    "    with open(b) as f:\n",
    "        t =  f.read()\n",
    "        shelf[i] = {'title':fx(b), 'text': t,'n_words':len(t), 'n_sents': len(sent_tokenize(t))}\n",
    "    print(fx(b), \"\\t--\\t\", shelf[i]['n_words'], shelf[i]['n_sents'])"
   ]
  },
  {
   "cell_type": "code",
   "execution_count": 4,
   "metadata": {},
   "outputs": [
    {
     "name": "stdout",
     "output_type": "stream",
     "text": [
      "<class 'tuple'>\n",
      "<class 'tuple'>\n",
      "<class 'tuple'>\n"
     ]
    }
   ],
   "source": [
    "for i,b in enumerate(shelf):\n",
    "    x = nlp(b['text'])\n",
    "    b['entities'] = x.ents"
   ]
  },
  {
   "cell_type": "code",
   "execution_count": 14,
   "metadata": {},
   "outputs": [
    {
     "name": "stdout",
     "output_type": "stream",
     "text": [
      "4362 8000\n",
      "3625 6234\n",
      "3362 6274\n"
     ]
    }
   ],
   "source": [
    "for b in shelf:\n",
    "    b['characters'] = [e.text for e in b['entities'] if e.label_ == \"PERSON\"]\n",
    "    print(len(b['characters']), len(b['entities']))"
   ]
  },
  {
   "cell_type": "code",
   "execution_count": 16,
   "metadata": {},
   "outputs": [],
   "source": [
    "for b in shelf:\n",
    "    tmp = Counter([wd for wd in word_tokenize(b['text']) if wd in b['characters']])\n",
    "    b['mcc'] = tmp\n"
   ]
  },
  {
   "cell_type": "code",
   "execution_count": 28,
   "metadata": {},
   "outputs": [
    {
     "name": "stdout",
     "output_type": "stream",
     "text": [
      "Frodo\tGandalf\tSam\tBilbo\tPippin\tAragorn\tStrider\tMerry\tBoromir\tElrond\tTom\tGimli\tLegolas\n",
      "1095\t463\t400\t323\t209\t206\t204\t190\t154\t134\t126\t120\t95\n",
      "\n",
      "Frodo\tSam\tGandalf\tGollum\tAragorn\tGimli\tPippin\tSaruman\tLegolas\tSméagol\tFaramir\tMerry\tTreebea\n",
      "495\t418\t339\t307\t289\t192\t192\t176\t175\t133\t133\t131\t130\n",
      "\n",
      "Sam\tFrodo\tGandalf\tPippin\tMerry\tAragorn\tFaramir\tDenetho\tÉomer\tRohan\tÉowyn\tGimli\tBeregon\n",
      "459\t388\t300\t281\t222\t221\t158\t120\t104\t95\t92\t76\t72\n",
      "\n"
     ]
    }
   ],
   "source": [
    "for b in shelf:\n",
    "    print(*[c[0][:7] for c in b['mcc'].most_common(13)],sep='\\t')\n",
    "    print(*[c[1] for c in b['mcc'].most_common(13)],sep='\\t')\n",
    "    print()"
   ]
  },
  {
   "cell_type": "code",
   "execution_count": 33,
   "metadata": {},
   "outputs": [
    {
     "name": "stdout",
     "output_type": "stream",
     "text": [
      "Frodo\tGandalf\tSam\tBilbo\tPippin\tAragorn\tStrider\tMerry\tBoromir\tElrond\tTom\tGimli\tLegolas\tBree\tGollum\tSauron\tBaggins\tLady\tSaruman\tButterb\n",
      "1095\t463\t400\t323\t209\t206\t204\t190\t154\t134\t126\t120\t95\t73\t68\t60\t58\t54\t52\t51\n",
      "495\t339\t418\t8\t192\t289\t0\t131\t88\t13\t2\t192\t175\t2\t307\t34\t6\t24\t176\t0\n",
      "388\t300\t459\t32\t281\t221\t0\t222\t27\t33\t6\t76\t67\t19\t22\t47\t9\t48\t41\t21\n"
     ]
    }
   ],
   "source": [
    "b = shelf[0]['mcc'].most_common(20)\n",
    "b2 = shelf[1]['mcc']\n",
    "b3 = shelf[2]['mcc']\n",
    "print(*[c[0][:7] for c in b],sep='\\t')\n",
    "print(*[c[1] for c in b],sep='\\t')\n",
    "print(*[b2[c[0]] for c in b],sep='\\t')\n",
    "print(*[b3[c[0]] for c in b],sep='\\t')\n"
   ]
  }
 ],
 "metadata": {
  "kernelspec": {
   "display_name": "Python 3.8.1 64-bit",
   "language": "python",
   "name": "python3"
  },
  "language_info": {
   "codemirror_mode": {
    "name": "ipython",
    "version": 3
   },
   "file_extension": ".py",
   "mimetype": "text/x-python",
   "name": "python",
   "nbconvert_exporter": "python",
   "pygments_lexer": "ipython3",
   "version": "3.8.1"
  },
  "orig_nbformat": 4,
  "vscode": {
   "interpreter": {
    "hash": "f987c9954b5baca0b38449ea0150956d6a4255bfbccda35dc613e620693466e3"
   }
  }
 },
 "nbformat": 4,
 "nbformat_minor": 2
}
